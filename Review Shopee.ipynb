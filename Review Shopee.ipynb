{
  "nbformat": 4,
  "nbformat_minor": 0,
  "metadata": {
    "colab": {
      "provenance": [],
      "include_colab_link": true
    },
    "kernelspec": {
      "name": "python3",
      "display_name": "Python 3"
    },
    "language_info": {
      "name": "python"
    }
  },
  "cells": [
    {
      "cell_type": "markdown",
      "metadata": {
        "id": "view-in-github",
        "colab_type": "text"
      },
      "source": [
        "<a href=\"https://colab.research.google.com/github/whosrara/Review-Shopee/blob/main/Review%20Shopee.ipynb\" target=\"_parent\"><img src=\"https://colab.research.google.com/assets/colab-badge.svg\" alt=\"Open In Colab\"/></a>"
      ]
    },
    {
      "cell_type": "code",
      "source": [
        "#library yang digunakan untuk pemrosesan bahasa alami\n",
        "import nltk\n",
        "nltk.download('stopwords')\n",
        "nltk.download('punkt')\n",
        "nltk.download('wordnet')"
      ],
      "metadata": {
        "colab": {
          "base_uri": "https://localhost:8080/"
        },
        "id": "XMqzoyfFo_uT",
        "outputId": "2f2b4917-a0ad-4991-ff89-9681f4c383e2"
      },
      "execution_count": null,
      "outputs": [
        {
          "output_type": "stream",
          "name": "stderr",
          "text": [
            "[nltk_data] Downloading package stopwords to /root/nltk_data...\n",
            "[nltk_data]   Unzipping corpora/stopwords.zip.\n",
            "[nltk_data] Downloading package punkt to /root/nltk_data...\n",
            "[nltk_data]   Unzipping tokenizers/punkt.zip.\n",
            "[nltk_data] Downloading package wordnet to /root/nltk_data...\n"
          ]
        },
        {
          "output_type": "execute_result",
          "data": {
            "text/plain": [
              "True"
            ]
          },
          "metadata": {},
          "execution_count": 1
        }
      ]
    },
    {
      "cell_type": "code",
      "execution_count": null,
      "metadata": {
        "id": "OBfahk2JoBui"
      },
      "outputs": [],
      "source": [
        "import pandas as pd #untuk mengelola dan menganalisis data\n",
        "from sklearn.model_selection import train_test_split #untuk memisahkan dataset menjadi training data dan testing data\n",
        "from sklearn.feature_extraction.text import TfidfVectorizer #untuk mengubah teks menjadi vektor fitur dengan metode TF-IDF\n",
        "from sklearn.naive_bayes import MultinomialNB #digunakan untuk model naive bayes\n",
        "from sklearn.metrics import accuracy_score, classification_report #mengukur kerja model, menghitung akurasi\n",
        "from nltk.corpus import stopwords #modul untuk stopword\n",
        "from nltk.tokenize import word_tokenize #modul untuk tokenisasi\n",
        "import string #membersihkan teks dari tanda baca\n",
        "from nltk.stem import PorterStemmer, WordNetLemmatizer #untuk stemming dan lemmatisasi"
      ]
    },
    {
      "cell_type": "code",
      "source": [
        "from google.colab import drive\n",
        "drive.mount('/content/drive')"
      ],
      "metadata": {
        "colab": {
          "base_uri": "https://localhost:8080/"
        },
        "id": "u6isktdrRHIo",
        "outputId": "4fa3933d-cb97-40b7-f833-b851c72bffdb"
      },
      "execution_count": null,
      "outputs": [
        {
          "output_type": "stream",
          "name": "stdout",
          "text": [
            "Mounted at /content/drive\n"
          ]
        }
      ]
    },
    {
      "cell_type": "code",
      "source": [
        "#Membaca dataset\n",
        "dataset = pd.read_csv('/content/drive/MyDrive/Natural Language Processing/shopee_ulasan.csv')\n",
        "dataset.head()"
      ],
      "metadata": {
        "id": "MQH3vivnodyo",
        "colab": {
          "base_uri": "https://localhost:8080/",
          "height": 206
        },
        "outputId": "7326768b-3216-420e-e34e-1aca924cc423"
      },
      "execution_count": null,
      "outputs": [
        {
          "output_type": "execute_result",
          "data": {
            "text/plain": [
              "                      user                                             ulasan  \\\n",
              "0         Nindya Widiyanti  Banyak membantu..dalam jual beli, produk berku...   \n",
              "1         Abdullah ibrahim  Ayo teman-teman kita mendownload shopee Karena...   \n",
              "2              Dita Helina  App sangggatttt rekomendasiiiiiii, buat belanj...   \n",
              "3               Ngatmi Ami  Shopee memang is the bast, tapi kalu boleh sar...   \n",
              "4  Rifki pjm Kosong Dlapan  Aplikasi belanja mudah segala sesuatu kebutuha...   \n",
              "\n",
              "   label        tanggal  \n",
              "0      1  14 Maret 2021  \n",
              "1      1  14 Maret 2021  \n",
              "2      1  12 Maret 2021  \n",
              "3      1  16 Maret 2021  \n",
              "4      1  16 Maret 2021  "
            ],
            "text/html": [
              "\n",
              "  <div id=\"df-8c0da5cb-1927-452c-9e6b-590745d97bc7\" class=\"colab-df-container\">\n",
              "    <div>\n",
              "<style scoped>\n",
              "    .dataframe tbody tr th:only-of-type {\n",
              "        vertical-align: middle;\n",
              "    }\n",
              "\n",
              "    .dataframe tbody tr th {\n",
              "        vertical-align: top;\n",
              "    }\n",
              "\n",
              "    .dataframe thead th {\n",
              "        text-align: right;\n",
              "    }\n",
              "</style>\n",
              "<table border=\"1\" class=\"dataframe\">\n",
              "  <thead>\n",
              "    <tr style=\"text-align: right;\">\n",
              "      <th></th>\n",
              "      <th>user</th>\n",
              "      <th>ulasan</th>\n",
              "      <th>label</th>\n",
              "      <th>tanggal</th>\n",
              "    </tr>\n",
              "  </thead>\n",
              "  <tbody>\n",
              "    <tr>\n",
              "      <th>0</th>\n",
              "      <td>Nindya Widiyanti</td>\n",
              "      <td>Banyak membantu..dalam jual beli, produk berku...</td>\n",
              "      <td>1</td>\n",
              "      <td>14 Maret 2021</td>\n",
              "    </tr>\n",
              "    <tr>\n",
              "      <th>1</th>\n",
              "      <td>Abdullah ibrahim</td>\n",
              "      <td>Ayo teman-teman kita mendownload shopee Karena...</td>\n",
              "      <td>1</td>\n",
              "      <td>14 Maret 2021</td>\n",
              "    </tr>\n",
              "    <tr>\n",
              "      <th>2</th>\n",
              "      <td>Dita Helina</td>\n",
              "      <td>App sangggatttt rekomendasiiiiiii, buat belanj...</td>\n",
              "      <td>1</td>\n",
              "      <td>12 Maret 2021</td>\n",
              "    </tr>\n",
              "    <tr>\n",
              "      <th>3</th>\n",
              "      <td>Ngatmi Ami</td>\n",
              "      <td>Shopee memang is the bast, tapi kalu boleh sar...</td>\n",
              "      <td>1</td>\n",
              "      <td>16 Maret 2021</td>\n",
              "    </tr>\n",
              "    <tr>\n",
              "      <th>4</th>\n",
              "      <td>Rifki pjm Kosong Dlapan</td>\n",
              "      <td>Aplikasi belanja mudah segala sesuatu kebutuha...</td>\n",
              "      <td>1</td>\n",
              "      <td>16 Maret 2021</td>\n",
              "    </tr>\n",
              "  </tbody>\n",
              "</table>\n",
              "</div>\n",
              "    <div class=\"colab-df-buttons\">\n",
              "\n",
              "  <div class=\"colab-df-container\">\n",
              "    <button class=\"colab-df-convert\" onclick=\"convertToInteractive('df-8c0da5cb-1927-452c-9e6b-590745d97bc7')\"\n",
              "            title=\"Convert this dataframe to an interactive table.\"\n",
              "            style=\"display:none;\">\n",
              "\n",
              "  <svg xmlns=\"http://www.w3.org/2000/svg\" height=\"24px\" viewBox=\"0 -960 960 960\">\n",
              "    <path d=\"M120-120v-720h720v720H120Zm60-500h600v-160H180v160Zm220 220h160v-160H400v160Zm0 220h160v-160H400v160ZM180-400h160v-160H180v160Zm440 0h160v-160H620v160ZM180-180h160v-160H180v160Zm440 0h160v-160H620v160Z\"/>\n",
              "  </svg>\n",
              "    </button>\n",
              "\n",
              "  <style>\n",
              "    .colab-df-container {\n",
              "      display:flex;\n",
              "      gap: 12px;\n",
              "    }\n",
              "\n",
              "    .colab-df-convert {\n",
              "      background-color: #E8F0FE;\n",
              "      border: none;\n",
              "      border-radius: 50%;\n",
              "      cursor: pointer;\n",
              "      display: none;\n",
              "      fill: #1967D2;\n",
              "      height: 32px;\n",
              "      padding: 0 0 0 0;\n",
              "      width: 32px;\n",
              "    }\n",
              "\n",
              "    .colab-df-convert:hover {\n",
              "      background-color: #E2EBFA;\n",
              "      box-shadow: 0px 1px 2px rgba(60, 64, 67, 0.3), 0px 1px 3px 1px rgba(60, 64, 67, 0.15);\n",
              "      fill: #174EA6;\n",
              "    }\n",
              "\n",
              "    .colab-df-buttons div {\n",
              "      margin-bottom: 4px;\n",
              "    }\n",
              "\n",
              "    [theme=dark] .colab-df-convert {\n",
              "      background-color: #3B4455;\n",
              "      fill: #D2E3FC;\n",
              "    }\n",
              "\n",
              "    [theme=dark] .colab-df-convert:hover {\n",
              "      background-color: #434B5C;\n",
              "      box-shadow: 0px 1px 3px 1px rgba(0, 0, 0, 0.15);\n",
              "      filter: drop-shadow(0px 1px 2px rgba(0, 0, 0, 0.3));\n",
              "      fill: #FFFFFF;\n",
              "    }\n",
              "  </style>\n",
              "\n",
              "    <script>\n",
              "      const buttonEl =\n",
              "        document.querySelector('#df-8c0da5cb-1927-452c-9e6b-590745d97bc7 button.colab-df-convert');\n",
              "      buttonEl.style.display =\n",
              "        google.colab.kernel.accessAllowed ? 'block' : 'none';\n",
              "\n",
              "      async function convertToInteractive(key) {\n",
              "        const element = document.querySelector('#df-8c0da5cb-1927-452c-9e6b-590745d97bc7');\n",
              "        const dataTable =\n",
              "          await google.colab.kernel.invokeFunction('convertToInteractive',\n",
              "                                                    [key], {});\n",
              "        if (!dataTable) return;\n",
              "\n",
              "        const docLinkHtml = 'Like what you see? Visit the ' +\n",
              "          '<a target=\"_blank\" href=https://colab.research.google.com/notebooks/data_table.ipynb>data table notebook</a>'\n",
              "          + ' to learn more about interactive tables.';\n",
              "        element.innerHTML = '';\n",
              "        dataTable['output_type'] = 'display_data';\n",
              "        await google.colab.output.renderOutput(dataTable, element);\n",
              "        const docLink = document.createElement('div');\n",
              "        docLink.innerHTML = docLinkHtml;\n",
              "        element.appendChild(docLink);\n",
              "      }\n",
              "    </script>\n",
              "  </div>\n",
              "\n",
              "\n",
              "<div id=\"df-44f0ae24-b00a-4f59-a668-ff51aefdcef2\">\n",
              "  <button class=\"colab-df-quickchart\" onclick=\"quickchart('df-44f0ae24-b00a-4f59-a668-ff51aefdcef2')\"\n",
              "            title=\"Suggest charts\"\n",
              "            style=\"display:none;\">\n",
              "\n",
              "<svg xmlns=\"http://www.w3.org/2000/svg\" height=\"24px\"viewBox=\"0 0 24 24\"\n",
              "     width=\"24px\">\n",
              "    <g>\n",
              "        <path d=\"M19 3H5c-1.1 0-2 .9-2 2v14c0 1.1.9 2 2 2h14c1.1 0 2-.9 2-2V5c0-1.1-.9-2-2-2zM9 17H7v-7h2v7zm4 0h-2V7h2v10zm4 0h-2v-4h2v4z\"/>\n",
              "    </g>\n",
              "</svg>\n",
              "  </button>\n",
              "\n",
              "<style>\n",
              "  .colab-df-quickchart {\n",
              "      --bg-color: #E8F0FE;\n",
              "      --fill-color: #1967D2;\n",
              "      --hover-bg-color: #E2EBFA;\n",
              "      --hover-fill-color: #174EA6;\n",
              "      --disabled-fill-color: #AAA;\n",
              "      --disabled-bg-color: #DDD;\n",
              "  }\n",
              "\n",
              "  [theme=dark] .colab-df-quickchart {\n",
              "      --bg-color: #3B4455;\n",
              "      --fill-color: #D2E3FC;\n",
              "      --hover-bg-color: #434B5C;\n",
              "      --hover-fill-color: #FFFFFF;\n",
              "      --disabled-bg-color: #3B4455;\n",
              "      --disabled-fill-color: #666;\n",
              "  }\n",
              "\n",
              "  .colab-df-quickchart {\n",
              "    background-color: var(--bg-color);\n",
              "    border: none;\n",
              "    border-radius: 50%;\n",
              "    cursor: pointer;\n",
              "    display: none;\n",
              "    fill: var(--fill-color);\n",
              "    height: 32px;\n",
              "    padding: 0;\n",
              "    width: 32px;\n",
              "  }\n",
              "\n",
              "  .colab-df-quickchart:hover {\n",
              "    background-color: var(--hover-bg-color);\n",
              "    box-shadow: 0 1px 2px rgba(60, 64, 67, 0.3), 0 1px 3px 1px rgba(60, 64, 67, 0.15);\n",
              "    fill: var(--button-hover-fill-color);\n",
              "  }\n",
              "\n",
              "  .colab-df-quickchart-complete:disabled,\n",
              "  .colab-df-quickchart-complete:disabled:hover {\n",
              "    background-color: var(--disabled-bg-color);\n",
              "    fill: var(--disabled-fill-color);\n",
              "    box-shadow: none;\n",
              "  }\n",
              "\n",
              "  .colab-df-spinner {\n",
              "    border: 2px solid var(--fill-color);\n",
              "    border-color: transparent;\n",
              "    border-bottom-color: var(--fill-color);\n",
              "    animation:\n",
              "      spin 1s steps(1) infinite;\n",
              "  }\n",
              "\n",
              "  @keyframes spin {\n",
              "    0% {\n",
              "      border-color: transparent;\n",
              "      border-bottom-color: var(--fill-color);\n",
              "      border-left-color: var(--fill-color);\n",
              "    }\n",
              "    20% {\n",
              "      border-color: transparent;\n",
              "      border-left-color: var(--fill-color);\n",
              "      border-top-color: var(--fill-color);\n",
              "    }\n",
              "    30% {\n",
              "      border-color: transparent;\n",
              "      border-left-color: var(--fill-color);\n",
              "      border-top-color: var(--fill-color);\n",
              "      border-right-color: var(--fill-color);\n",
              "    }\n",
              "    40% {\n",
              "      border-color: transparent;\n",
              "      border-right-color: var(--fill-color);\n",
              "      border-top-color: var(--fill-color);\n",
              "    }\n",
              "    60% {\n",
              "      border-color: transparent;\n",
              "      border-right-color: var(--fill-color);\n",
              "    }\n",
              "    80% {\n",
              "      border-color: transparent;\n",
              "      border-right-color: var(--fill-color);\n",
              "      border-bottom-color: var(--fill-color);\n",
              "    }\n",
              "    90% {\n",
              "      border-color: transparent;\n",
              "      border-bottom-color: var(--fill-color);\n",
              "    }\n",
              "  }\n",
              "</style>\n",
              "\n",
              "  <script>\n",
              "    async function quickchart(key) {\n",
              "      const quickchartButtonEl =\n",
              "        document.querySelector('#' + key + ' button');\n",
              "      quickchartButtonEl.disabled = true;  // To prevent multiple clicks.\n",
              "      quickchartButtonEl.classList.add('colab-df-spinner');\n",
              "      try {\n",
              "        const charts = await google.colab.kernel.invokeFunction(\n",
              "            'suggestCharts', [key], {});\n",
              "      } catch (error) {\n",
              "        console.error('Error during call to suggestCharts:', error);\n",
              "      }\n",
              "      quickchartButtonEl.classList.remove('colab-df-spinner');\n",
              "      quickchartButtonEl.classList.add('colab-df-quickchart-complete');\n",
              "    }\n",
              "    (() => {\n",
              "      let quickchartButtonEl =\n",
              "        document.querySelector('#df-44f0ae24-b00a-4f59-a668-ff51aefdcef2 button');\n",
              "      quickchartButtonEl.style.display =\n",
              "        google.colab.kernel.accessAllowed ? 'block' : 'none';\n",
              "    })();\n",
              "  </script>\n",
              "</div>\n",
              "    </div>\n",
              "  </div>\n"
            ]
          },
          "metadata": {},
          "execution_count": 4
        }
      ]
    },
    {
      "cell_type": "code",
      "source": [
        "x = dataset['ulasan']\n",
        "y = dataset['label']"
      ],
      "metadata": {
        "id": "A1xX-VIwognO"
      },
      "execution_count": null,
      "outputs": []
    },
    {
      "cell_type": "code",
      "source": [
        "#Menampilkan jumlah data dan jumlah tiap label\n",
        "print(\"Jumlah Data Total:\", len(dataset))\n",
        "print(\"Jumlah Data Positif:\", len(dataset[dataset['label'] == 1]))\n",
        "print(\"Jumlah Data Negatif:\", len(dataset[dataset['label'] == 0]))"
      ],
      "metadata": {
        "colab": {
          "base_uri": "https://localhost:8080/"
        },
        "id": "L9vhuAZ-rFfF",
        "outputId": "803c8fbb-2c03-4248-9342-5cf9e0df499d"
      },
      "execution_count": null,
      "outputs": [
        {
          "output_type": "stream",
          "name": "stdout",
          "text": [
            "Jumlah Data Total: 2937\n",
            "Jumlah Data Positif: 1668\n",
            "Jumlah Data Negatif: 1269\n"
          ]
        }
      ]
    },
    {
      "cell_type": "markdown",
      "source": [
        "#PREPROCESSING"
      ],
      "metadata": {
        "id": "kkNDc4kLcBTJ"
      }
    },
    {
      "cell_type": "code",
      "source": [
        "missing_values = dataset.isnull().sum()\n",
        "print(\"Jumlah Data Kosong dalam Setiap Kolom:\")\n",
        "print(missing_values)"
      ],
      "metadata": {
        "colab": {
          "base_uri": "https://localhost:8080/"
        },
        "id": "C6o4TsHmJgD2",
        "outputId": "59490321-6685-4810-ae25-96cea2f908c3"
      },
      "execution_count": null,
      "outputs": [
        {
          "output_type": "stream",
          "name": "stdout",
          "text": [
            "Jumlah Data Kosong dalam Setiap Kolom:\n",
            "user       0\n",
            "ulasan     0\n",
            "label      0\n",
            "tanggal    0\n",
            "dtype: int64\n"
          ]
        }
      ]
    },
    {
      "cell_type": "code",
      "source": [
        "# Mendeteksi data duplikat\n",
        "duplicate_rows = dataset[dataset.duplicated()]\n",
        "\n",
        "# Menghapus data duplikat\n",
        "data = dataset.drop_duplicates()"
      ],
      "metadata": {
        "id": "OO9Mi8T9rIkn"
      },
      "execution_count": null,
      "outputs": []
    },
    {
      "cell_type": "markdown",
      "source": [
        "Tokenisasi"
      ],
      "metadata": {
        "id": "fV3egT7UcRD6"
      }
    },
    {
      "cell_type": "code",
      "source": [
        "#Lakukan tokenisasi untuk setiap ulasan\n",
        "tokenized_ulasan = [word_tokenize(ulasan.lower()) for ulasan in x]\n",
        "\n",
        "#Menampilkan hasil tokenisasi untuk beberapa ulasan\n",
        "for i in range(5):  # Tampilkan tokenisasi untuk lima ulasan pertama\n",
        "    print(f\"Ulasan {i + 1}:\")\n",
        "    print(tokenized_ulasan[i])"
      ],
      "metadata": {
        "colab": {
          "base_uri": "https://localhost:8080/"
        },
        "id": "5Ikh7Zv21AQF",
        "outputId": "17ef3f19-d45a-4644-924f-0d25f3299fc7"
      },
      "execution_count": null,
      "outputs": [
        {
          "output_type": "stream",
          "name": "stdout",
          "text": [
            "Ulasan 1:\n",
            "['banyak', 'membantu', '..', 'dalam', 'jual', 'beli', ',', 'produk', 'berkualitas', '&', 'harga', 'ringan', 'di', 'kantong', ',', 'terima', 'kasih', 'shopee']\n",
            "Ulasan 2:\n",
            "['ayo', 'teman-teman', 'kita', 'mendownload', 'shopee', 'karena', 'aplikasi', 'ini', 'membuat', 'aku', 'senang', 'aku', 'senang', 'sekali', 'membuka', 'paket-paket', 'yang', 'sudah', 'datang', 'dengan', 'aku', 'sudah', 'membeli', 'banyak', 'di', 'rumah', 'assalamualaikum', 'warahmatullahi', 'wabarakatuh']\n",
            "Ulasan 3:\n",
            "['app', 'sangggatttt', 'rekomendasiiiiiii', ',', 'buat', 'belanja', 'semakin', 'keceeee', 'tanpa', 'harus', 'repot', 'dan', 'susah', 'cari', 'barang']\n",
            "Ulasan 4:\n",
            "['shopee', 'memang', 'is', 'the', 'bast', ',', 'tapi', 'kalu', 'boleh', 'saran', 'untuk', 'spinjam', 'nya', 'kalau', 'bisa', 'di', 'tambah', 'llimit', 'bulan', 'nya', 'jadi', '6', 'bulan', 'ya', 'admin', '...']\n",
            "Ulasan 5:\n",
            "['aplikasi', 'belanja', 'mudah', 'segala', 'sesuatu', 'kebutuhan', 'ada', ',', 'penjual', 'pada', 'ramah', 'dan', 'pelayananya', 'cepat', '.']\n"
          ]
        }
      ]
    },
    {
      "cell_type": "markdown",
      "source": [
        "Case Folding"
      ],
      "metadata": {
        "id": "bnoa--FrcOQa"
      }
    },
    {
      "cell_type": "code",
      "source": [
        "#Mengkonversi ke huruf kecil\n",
        "x = x.str.lower()"
      ],
      "metadata": {
        "id": "hS-KRQDNollP"
      },
      "execution_count": null,
      "outputs": []
    },
    {
      "cell_type": "markdown",
      "source": [
        "Stemming dan Lemmatisasi"
      ],
      "metadata": {
        "id": "NpSurfjBcTlJ"
      }
    },
    {
      "cell_type": "code",
      "source": [
        "#memproses teks dengan teknik stemming dan lemmatisasi\n",
        "stemmer = PorterStemmer()\n",
        "lemmatizer = WordNetLemmatizer()\n",
        "\n",
        "def stem_text(text):\n",
        "    tokens = word_tokenize(text)\n",
        "    stemmed_tokens = [stemmer.stem(token) for token in tokens]\n",
        "    return ' '.join(stemmed_tokens)\n",
        "\n",
        "def lemmatize_text(text):\n",
        "    tokens = word_tokenize(text)\n",
        "    lemmatized_tokens = [lemmatizer.lemmatize(token) for token in tokens]\n",
        "    return ' '.join(lemmatized_tokens)"
      ],
      "metadata": {
        "id": "ip5IzoOpt-1I"
      },
      "execution_count": null,
      "outputs": []
    },
    {
      "cell_type": "markdown",
      "source": [
        "Stopword"
      ],
      "metadata": {
        "id": "rMp7DTKAck60"
      }
    },
    {
      "cell_type": "code",
      "source": [
        "# Inisialisasi stop words\n",
        "stop_words = set(stopwords.words('indonesian'))\n",
        "\n",
        "# Menghapus stopwords dan tanda baca\n",
        "def preprocess_text(text, use_stemming=False, use_lemmatization=False):\n",
        "    # Menghilangkan tanda baca\n",
        "    text = ''.join([char for char in text if char not in string.punctuation])\n",
        "    # Menghapus stopwords\n",
        "    text = ' '.join([word for word in word_tokenize(text) if word not in stop_words])\n",
        "\n",
        "    # apply stemming or lemmatization\n",
        "    if use_stemming:\n",
        "        text = stem_text(text)\n",
        "\n",
        "    if use_lemmatization:\n",
        "        text = lemmatize_text(text)\n",
        "\n",
        "    return text\n",
        "\n",
        "# x = x.apply(preprocess_text)\n",
        "# stemming\n",
        "x = x.apply(lambda text: preprocess_text(text, use_stemming=True))\n",
        "\n",
        "# lemmatization\n",
        "x = x.apply(lambda text: preprocess_text(text, use_lemmatization=True))"
      ],
      "metadata": {
        "id": "uVTwRZYRovp8"
      },
      "execution_count": null,
      "outputs": []
    },
    {
      "cell_type": "markdown",
      "source": [
        "Vectorisasi"
      ],
      "metadata": {
        "id": "dk8zGSiD3c6t"
      }
    },
    {
      "cell_type": "code",
      "source": [
        "# Membangun model TF-IDF\n",
        "vectorizer = TfidfVectorizer()\n",
        "x_vec = vectorizer.fit_transform(x)\n",
        "feature_names = vectorizer.get_feature_names_out()\n",
        "def tf_idf(text):\n",
        "  tfidf_matrix = vectorizer.transform([text]).todense()\n",
        "  feature_index = x[0,:].nonzero()[1]\n",
        "  skor = zip ([feature_names[i] for i in feature_index], [x[0, x] for x in feature_index])\n",
        "  return dict (skor)"
      ],
      "metadata": {
        "id": "Tk97Cg82pW8v"
      },
      "execution_count": null,
      "outputs": []
    },
    {
      "cell_type": "markdown",
      "source": [
        "#MEMBANGUN MODEL\n"
      ],
      "metadata": {
        "id": "QJdsOJwDcwRY"
      }
    },
    {
      "cell_type": "code",
      "source": [
        "#Membagi dataset menjadi data pelatihan dan pengujian\n",
        "x_train, x_test, y_train, y_test = train_test_split(x_vec, y, test_size=0.2, random_state=42)"
      ],
      "metadata": {
        "id": "kXAPuRIzr0tW"
      },
      "execution_count": null,
      "outputs": []
    },
    {
      "cell_type": "code",
      "source": [
        "#Membangun model Naive Bayes\n",
        "naive_bayes = MultinomialNB()\n",
        "naive_bayes.fit(x_train, y_train)\n"
      ],
      "metadata": {
        "colab": {
          "base_uri": "https://localhost:8080/",
          "height": 74
        },
        "id": "KnEfcO7Xr3Rg",
        "outputId": "fa21782e-5b57-47f8-832c-4977c673cbff"
      },
      "execution_count": null,
      "outputs": [
        {
          "output_type": "execute_result",
          "data": {
            "text/plain": [
              "MultinomialNB()"
            ],
            "text/html": [
              "<style>#sk-container-id-1 {color: black;background-color: white;}#sk-container-id-1 pre{padding: 0;}#sk-container-id-1 div.sk-toggleable {background-color: white;}#sk-container-id-1 label.sk-toggleable__label {cursor: pointer;display: block;width: 100%;margin-bottom: 0;padding: 0.3em;box-sizing: border-box;text-align: center;}#sk-container-id-1 label.sk-toggleable__label-arrow:before {content: \"▸\";float: left;margin-right: 0.25em;color: #696969;}#sk-container-id-1 label.sk-toggleable__label-arrow:hover:before {color: black;}#sk-container-id-1 div.sk-estimator:hover label.sk-toggleable__label-arrow:before {color: black;}#sk-container-id-1 div.sk-toggleable__content {max-height: 0;max-width: 0;overflow: hidden;text-align: left;background-color: #f0f8ff;}#sk-container-id-1 div.sk-toggleable__content pre {margin: 0.2em;color: black;border-radius: 0.25em;background-color: #f0f8ff;}#sk-container-id-1 input.sk-toggleable__control:checked~div.sk-toggleable__content {max-height: 200px;max-width: 100%;overflow: auto;}#sk-container-id-1 input.sk-toggleable__control:checked~label.sk-toggleable__label-arrow:before {content: \"▾\";}#sk-container-id-1 div.sk-estimator input.sk-toggleable__control:checked~label.sk-toggleable__label {background-color: #d4ebff;}#sk-container-id-1 div.sk-label input.sk-toggleable__control:checked~label.sk-toggleable__label {background-color: #d4ebff;}#sk-container-id-1 input.sk-hidden--visually {border: 0;clip: rect(1px 1px 1px 1px);clip: rect(1px, 1px, 1px, 1px);height: 1px;margin: -1px;overflow: hidden;padding: 0;position: absolute;width: 1px;}#sk-container-id-1 div.sk-estimator {font-family: monospace;background-color: #f0f8ff;border: 1px dotted black;border-radius: 0.25em;box-sizing: border-box;margin-bottom: 0.5em;}#sk-container-id-1 div.sk-estimator:hover {background-color: #d4ebff;}#sk-container-id-1 div.sk-parallel-item::after {content: \"\";width: 100%;border-bottom: 1px solid gray;flex-grow: 1;}#sk-container-id-1 div.sk-label:hover label.sk-toggleable__label {background-color: #d4ebff;}#sk-container-id-1 div.sk-serial::before {content: \"\";position: absolute;border-left: 1px solid gray;box-sizing: border-box;top: 0;bottom: 0;left: 50%;z-index: 0;}#sk-container-id-1 div.sk-serial {display: flex;flex-direction: column;align-items: center;background-color: white;padding-right: 0.2em;padding-left: 0.2em;position: relative;}#sk-container-id-1 div.sk-item {position: relative;z-index: 1;}#sk-container-id-1 div.sk-parallel {display: flex;align-items: stretch;justify-content: center;background-color: white;position: relative;}#sk-container-id-1 div.sk-item::before, #sk-container-id-1 div.sk-parallel-item::before {content: \"\";position: absolute;border-left: 1px solid gray;box-sizing: border-box;top: 0;bottom: 0;left: 50%;z-index: -1;}#sk-container-id-1 div.sk-parallel-item {display: flex;flex-direction: column;z-index: 1;position: relative;background-color: white;}#sk-container-id-1 div.sk-parallel-item:first-child::after {align-self: flex-end;width: 50%;}#sk-container-id-1 div.sk-parallel-item:last-child::after {align-self: flex-start;width: 50%;}#sk-container-id-1 div.sk-parallel-item:only-child::after {width: 0;}#sk-container-id-1 div.sk-dashed-wrapped {border: 1px dashed gray;margin: 0 0.4em 0.5em 0.4em;box-sizing: border-box;padding-bottom: 0.4em;background-color: white;}#sk-container-id-1 div.sk-label label {font-family: monospace;font-weight: bold;display: inline-block;line-height: 1.2em;}#sk-container-id-1 div.sk-label-container {text-align: center;}#sk-container-id-1 div.sk-container {/* jupyter's `normalize.less` sets `[hidden] { display: none; }` but bootstrap.min.css set `[hidden] { display: none !important; }` so we also need the `!important` here to be able to override the default hidden behavior on the sphinx rendered scikit-learn.org. See: https://github.com/scikit-learn/scikit-learn/issues/21755 */display: inline-block !important;position: relative;}#sk-container-id-1 div.sk-text-repr-fallback {display: none;}</style><div id=\"sk-container-id-1\" class=\"sk-top-container\"><div class=\"sk-text-repr-fallback\"><pre>MultinomialNB()</pre><b>In a Jupyter environment, please rerun this cell to show the HTML representation or trust the notebook. <br />On GitHub, the HTML representation is unable to render, please try loading this page with nbviewer.org.</b></div><div class=\"sk-container\" hidden><div class=\"sk-item\"><div class=\"sk-estimator sk-toggleable\"><input class=\"sk-toggleable__control sk-hidden--visually\" id=\"sk-estimator-id-1\" type=\"checkbox\" checked><label for=\"sk-estimator-id-1\" class=\"sk-toggleable__label sk-toggleable__label-arrow\">MultinomialNB</label><div class=\"sk-toggleable__content\"><pre>MultinomialNB()</pre></div></div></div></div></div>"
            ]
          },
          "metadata": {},
          "execution_count": 15
        }
      ]
    },
    {
      "cell_type": "code",
      "source": [
        "#Memprediksi sentimen pada data pengujian\n",
        "y_pred = naive_bayes.predict(x_test)"
      ],
      "metadata": {
        "id": "E8dikjPyppiI"
      },
      "execution_count": null,
      "outputs": []
    },
    {
      "cell_type": "code",
      "source": [
        "from sklearn.metrics import confusion_matrix\n",
        "import seaborn as sns\n",
        "import matplotlib.pyplot as plt\n",
        "# Menghitung matriks kebingungan\n",
        "confusion = confusion_matrix(y_test, y_pred)\n",
        "\n",
        "#Membuat heatmap dari confusion matrix\n",
        "# plt.figure(figsize=(4, 4))\n",
        "sns.set(font_scale=1.2)\n",
        "sns.heatmap(confusion, annot=True, cmap='Blues', fmt='d', cbar=False, square=True)\n",
        "plt.tight_layout()  #Untuk memastikan label-label tidak terpotong\n",
        "\n",
        "#Menampilkan plot confusion matrix\n",
        "plt.title('Confusion Matrix')\n",
        "plt.show()"
      ],
      "metadata": {
        "colab": {
          "base_uri": "https://localhost:8080/",
          "height": 497
        },
        "id": "UOBCK0UG2egF",
        "outputId": "b6036a14-1048-4f28-881c-48eece853433"
      },
      "execution_count": null,
      "outputs": [
        {
          "output_type": "display_data",
          "data": {
            "text/plain": [
              "<Figure size 640x480 with 1 Axes>"
            ],
            "image/png": "[encoded data removed]"
          },
          "metadata": {}
        }
      ]
    },
    {
      "cell_type": "code",
      "source": [
        "#Mengukur akurasi model\n",
        "accuracy = accuracy_score(y_test, y_pred)\n",
        "print(f'Akurasi Model: {accuracy:.2f}')\n",
        "\n",
        "#Menampilkan laporan klasifikasi\n",
        "print(classification_report(y_test, y_pred))"
      ],
      "metadata": {
        "colab": {
          "base_uri": "https://localhost:8080/"
        },
        "id": "tESdAUCApqpS",
        "outputId": "dde6b7ec-2ea9-461f-99f9-362b7b1a6ed7"
      },
      "execution_count": null,
      "outputs": [
        {
          "output_type": "stream",
          "name": "stdout",
          "text": [
            "Akurasi Model: 0.88\n",
            "              precision    recall  f1-score   support\n",
            "\n",
            "           0       0.86      0.85      0.86       243\n",
            "           1       0.90      0.90      0.90       345\n",
            "\n",
            "    accuracy                           0.88       588\n",
            "   macro avg       0.88      0.88      0.88       588\n",
            "weighted avg       0.88      0.88      0.88       588\n",
            "\n"
          ]
        }
      ]
    },
    {
      "cell_type": "code",
      "source": [
        "#Uji model dengan ulasan produk baru\n",
        "ulasan_produk_baru = input(\"Masukkan ulasan produk baru: \")\n",
        "# Tokenisasi teks\n",
        "tokens = word_tokenize(ulasan_produk_baru)\n",
        "#hasil tokenisasi\n",
        "print(\"Tokenisasi:\", tokens)\n",
        "#Case folding (pengubahan huruf menjadi huruf kecil)\n",
        "teks_lower = ulasan_produk_baru.lower()\n",
        "print(\"Case folding:\", teks_lower)\n",
        "# #hasil preprocessing\n",
        "ulasan_produk_baru = preprocess_text(ulasan_produk_baru)\n",
        "print(\"Tanpa stopwords :\", ulasan_produk_baru)\n",
        "# Preprocess teks dengan stemming\n",
        "stemmed_text = preprocess_text(ulasan_produk_baru, use_stemming=True)\n",
        "# Tampilkan hasil stemming\n",
        "print(\"Hasil stemming:\", stemmed_text)\n",
        "ulasan_produk_baru_vec = vectorizer.transform([ulasan_produk_baru])\n",
        "sentimen = naive_bayes.predict(ulasan_produk_baru_vec)\n",
        "\n",
        "if sentimen[0] == 1:\n",
        "    print('Sentimen: Positif')\n",
        "else:\n",
        "    print('Sentimen: Negatif')"
      ],
      "metadata": {
        "id": "etZmkqDjpye7"
      },
      "execution_count": null,
      "outputs": []
    }
  ]
}